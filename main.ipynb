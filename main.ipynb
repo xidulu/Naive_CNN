{
  "nbformat": 4,
  "nbformat_minor": 0,
  "metadata": {
    "colab": {
      "name": "Untitled1.ipynb",
      "version": "0.3.2",
      "provenance": [],
      "collapsed_sections": []
    },
    "kernelspec": {
      "name": "python3",
      "display_name": "Python 3"
    },
    "accelerator": "GPU"
  },
  "cells": [
    {
      "cell_type": "markdown",
      "metadata": {
        "id": "view-in-github",
        "colab_type": "text"
      },
      "source": [
        "[View in Colaboratory](https://colab.research.google.com/github/xidulu/Naive_CNN/blob/master/main.ipynb)"
      ]
    },
    {
      "metadata": {
        "id": "l4bXwQ4Xq4e9",
        "colab_type": "code",
        "colab": {}
      },
      "cell_type": "code",
      "source": [
        "import keras\n",
        "import numpy\n",
        "from keras.datasets import mnist\n",
        "from keras.models import Sequential\n",
        "from keras.layers import Dense, Dropout, Flatten\n",
        "from keras.layers import Conv2D, MaxPooling2D\n",
        "from keras import backend as K\n",
        "from keras.utils import np_utils"
      ],
      "execution_count": 0,
      "outputs": []
    },
    {
      "metadata": {
        "id": "2n1i20E0q0Qn",
        "colab_type": "code",
        "colab": {}
      },
      "cell_type": "code",
      "source": [
        "(x_train, y_train), (x_test, y_test) = mnist.load_data()"
      ],
      "execution_count": 0,
      "outputs": []
    },
    {
      "metadata": {
        "id": "AzR5hU4La00N",
        "colab_type": "text"
      },
      "cell_type": "markdown",
      "source": [
        "观察到原始数据维度：28x28"
      ]
    },
    {
      "metadata": {
        "id": "MHWg-EHYvbmG",
        "colab_type": "code",
        "colab": {
          "base_uri": "https://localhost:8080/",
          "height": 34
        },
        "outputId": "98d83a51-8217-4b50-a2e9-1d0aada4911e"
      },
      "cell_type": "code",
      "source": [
        "print(\"size:\",len(x_train[1]),len(x_train[1][0]))"
      ],
      "execution_count": 98,
      "outputs": [
        {
          "output_type": "stream",
          "text": [
            "size: 28 28\n"
          ],
          "name": "stdout"
        }
      ]
    },
    {
      "metadata": {
        "id": "VbTPSHOFydNJ",
        "colab_type": "code",
        "colab": {
          "base_uri": "https://localhost:8080/",
          "height": 1005
        },
        "outputId": "23e1ddcc-8aa3-47da-a8cd-beb1510da059"
      },
      "cell_type": "code",
      "source": [
        "print(x_train[0])\n",
        "print(y_train)"
      ],
      "execution_count": 58,
      "outputs": [
        {
          "output_type": "stream",
          "text": [
            "[[  0   0   0   0   0   0   0   0   0   0   0   0   0   0   0   0   0   0\n",
            "    0   0   0   0   0   0   0   0   0   0]\n",
            " [  0   0   0   0   0   0   0   0   0   0   0   0   0   0   0   0   0   0\n",
            "    0   0   0   0   0   0   0   0   0   0]\n",
            " [  0   0   0   0   0   0   0   0   0   0   0   0   0   0   0   0   0   0\n",
            "    0   0   0   0   0   0   0   0   0   0]\n",
            " [  0   0   0   0   0   0   0   0   0   0   0   0   0   0   0   0   0   0\n",
            "    0   0   0   0   0   0   0   0   0   0]\n",
            " [  0   0   0   0   0   0   0   0   0   0   0   0   0   0   0   0   0   0\n",
            "    0   0   0   0   0   0   0   0   0   0]\n",
            " [  0   0   0   0   0   0   0   0   0   0   0   0   3  18  18  18 126 136\n",
            "  175  26 166 255 247 127   0   0   0   0]\n",
            " [  0   0   0   0   0   0   0   0  30  36  94 154 170 253 253 253 253 253\n",
            "  225 172 253 242 195  64   0   0   0   0]\n",
            " [  0   0   0   0   0   0   0  49 238 253 253 253 253 253 253 253 253 251\n",
            "   93  82  82  56  39   0   0   0   0   0]\n",
            " [  0   0   0   0   0   0   0  18 219 253 253 253 253 253 198 182 247 241\n",
            "    0   0   0   0   0   0   0   0   0   0]\n",
            " [  0   0   0   0   0   0   0   0  80 156 107 253 253 205  11   0  43 154\n",
            "    0   0   0   0   0   0   0   0   0   0]\n",
            " [  0   0   0   0   0   0   0   0   0  14   1 154 253  90   0   0   0   0\n",
            "    0   0   0   0   0   0   0   0   0   0]\n",
            " [  0   0   0   0   0   0   0   0   0   0   0 139 253 190   2   0   0   0\n",
            "    0   0   0   0   0   0   0   0   0   0]\n",
            " [  0   0   0   0   0   0   0   0   0   0   0  11 190 253  70   0   0   0\n",
            "    0   0   0   0   0   0   0   0   0   0]\n",
            " [  0   0   0   0   0   0   0   0   0   0   0   0  35 241 225 160 108   1\n",
            "    0   0   0   0   0   0   0   0   0   0]\n",
            " [  0   0   0   0   0   0   0   0   0   0   0   0   0  81 240 253 253 119\n",
            "   25   0   0   0   0   0   0   0   0   0]\n",
            " [  0   0   0   0   0   0   0   0   0   0   0   0   0   0  45 186 253 253\n",
            "  150  27   0   0   0   0   0   0   0   0]\n",
            " [  0   0   0   0   0   0   0   0   0   0   0   0   0   0   0  16  93 252\n",
            "  253 187   0   0   0   0   0   0   0   0]\n",
            " [  0   0   0   0   0   0   0   0   0   0   0   0   0   0   0   0   0 249\n",
            "  253 249  64   0   0   0   0   0   0   0]\n",
            " [  0   0   0   0   0   0   0   0   0   0   0   0   0   0  46 130 183 253\n",
            "  253 207   2   0   0   0   0   0   0   0]\n",
            " [  0   0   0   0   0   0   0   0   0   0   0   0  39 148 229 253 253 253\n",
            "  250 182   0   0   0   0   0   0   0   0]\n",
            " [  0   0   0   0   0   0   0   0   0   0  24 114 221 253 253 253 253 201\n",
            "   78   0   0   0   0   0   0   0   0   0]\n",
            " [  0   0   0   0   0   0   0   0  23  66 213 253 253 253 253 198  81   2\n",
            "    0   0   0   0   0   0   0   0   0   0]\n",
            " [  0   0   0   0   0   0  18 171 219 253 253 253 253 195  80   9   0   0\n",
            "    0   0   0   0   0   0   0   0   0   0]\n",
            " [  0   0   0   0  55 172 226 253 253 253 253 244 133  11   0   0   0   0\n",
            "    0   0   0   0   0   0   0   0   0   0]\n",
            " [  0   0   0   0 136 253 253 253 212 135 132  16   0   0   0   0   0   0\n",
            "    0   0   0   0   0   0   0   0   0   0]\n",
            " [  0   0   0   0   0   0   0   0   0   0   0   0   0   0   0   0   0   0\n",
            "    0   0   0   0   0   0   0   0   0   0]\n",
            " [  0   0   0   0   0   0   0   0   0   0   0   0   0   0   0   0   0   0\n",
            "    0   0   0   0   0   0   0   0   0   0]\n",
            " [  0   0   0   0   0   0   0   0   0   0   0   0   0   0   0   0   0   0\n",
            "    0   0   0   0   0   0   0   0   0   0]]\n",
            "[5 0 4 ... 5 6 8]\n"
          ],
          "name": "stdout"
        }
      ]
    },
    {
      "metadata": {
        "id": "hLz5AzC9Khbq",
        "colab_type": "text"
      },
      "cell_type": "markdown",
      "source": [
        "对数据集进行观察后，发现图像是由灰度数组表示的，范围是$[0,255]$。对X采取归一化，归至为$[0,1]$。对于Y，原数据直接用数字进行标注，不便于进行学习，因此转换为one-hot的形式，使用np_utils.to_categorical()函数。"
      ]
    },
    {
      "metadata": {
        "id": "csKadH9PvzwF",
        "colab_type": "code",
        "colab": {}
      },
      "cell_type": "code",
      "source": [
        "row, col = 28, 28"
      ],
      "execution_count": 0,
      "outputs": []
    },
    {
      "metadata": {
        "id": "JKOhjTUzv3jm",
        "colab_type": "code",
        "colab": {}
      },
      "cell_type": "code",
      "source": [
        "#@title 归一化处理\n",
        "X_train = x_train.reshape(x_train.shape[0], 28, 28, 1).astype('float32')\n",
        "X_test = x_test.reshape(x_test.shape[0], 28, 28, 1).astype('float32')\n",
        "X_train = X_train / 255\n",
        "X_test = X_test / 255"
      ],
      "execution_count": 0,
      "outputs": []
    },
    {
      "metadata": {
        "id": "y74h9DyExV0J",
        "colab_type": "code",
        "colab": {}
      },
      "cell_type": "code",
      "source": [
        "#@title 转换为one-hot\n",
        "Y_train = np_utils.to_categorical(y_train)\n",
        "Y_test = np_utils.to_categorical(y_test)"
      ],
      "execution_count": 0,
      "outputs": []
    },
    {
      "metadata": {
        "id": "gTkBfWn-zTlv",
        "colab_type": "code",
        "colab": {}
      },
      "cell_type": "code",
      "source": [
        "num_classes = Y_train.shape[1]"
      ],
      "execution_count": 0,
      "outputs": []
    },
    {
      "metadata": {
        "id": "gKJqqf2oIyqx",
        "colab_type": "code",
        "colab": {
          "base_uri": "https://localhost:8080/",
          "height": 34
        },
        "outputId": "37180623-3b3f-46af-d8dc-5b7a95a81976"
      },
      "cell_type": "code",
      "source": [
        "X_train.shape"
      ],
      "execution_count": 78,
      "outputs": [
        {
          "output_type": "execute_result",
          "data": {
            "text/plain": [
              "(60000, 28, 28, 1)"
            ]
          },
          "metadata": {
            "tags": []
          },
          "execution_count": 78
        }
      ]
    },
    {
      "metadata": {
        "id": "sXiNO3Q9L2WQ",
        "colab_type": "text"
      },
      "cell_type": "markdown",
      "source": [
        "这里我使用了卷积神经网络，共5层\n",
        "\n",
        "1.   输入层：28x28x1\n",
        "2.   卷积层：filter size 32，kernel size 5x5, 激活函数为ReLU\n",
        "3.   池化层(2x2)\n",
        "4.   dropout layer减少过拟合\n",
        "5.   全连接层，使用ReLU，128个神经元，用于计算卷积层生成的特征对应的权重\n",
        "6.   用softmax多重分类器，生成输出层！\n",
        "\n",
        "metrics使用准确率，loss function使用交叉熵（因为是多重分类问题），参数初始方法采用keras默认的Xavier Initialization.\n"
      ]
    },
    {
      "metadata": {
        "id": "7kIUOH0SzZ9M",
        "colab_type": "code",
        "colab": {}
      },
      "cell_type": "code",
      "source": [
        "def cnn_model():\n",
        "  model = Sequential()\n",
        "  model.add(Conv2D(32, (5, 5), input_shape=(28, 28, 1), activation='relu'))\n",
        "  model.add(MaxPooling2D(pool_size=(2, 2)))\n",
        "  model.add(Dropout(0.2))\n",
        "  #Fully connected layer\n",
        "  model.add(Flatten())\n",
        "  model.add(Dense(128, activation='relu'))\n",
        "  model.add(Dense(num_classes, activation='softmax'))\n",
        "\t# Compile model\n",
        "  model.compile(loss='categorical_crossentropy', optimizer='adam', metrics=['accuracy'])\n",
        "  return model"
      ],
      "execution_count": 0,
      "outputs": []
    },
    {
      "metadata": {
        "id": "m8Jw-MPjErox",
        "colab_type": "code",
        "colab": {}
      },
      "cell_type": "code",
      "source": [
        "model = cnn_model()"
      ],
      "execution_count": 0,
      "outputs": []
    },
    {
      "metadata": {
        "id": "ac9mi1RgEzY4",
        "colab_type": "code",
        "colab": {
          "base_uri": "https://localhost:8080/",
          "height": 765
        },
        "outputId": "8f73826b-a2d4-4cc9-f6a1-85a389ea0450"
      },
      "cell_type": "code",
      "source": [
        "model.fit(X_train, Y_train, validation_data = (X_test, Y_test), epochs=20, batch_size=256, verbose = 1)"
      ],
      "execution_count": 101,
      "outputs": [
        {
          "output_type": "stream",
          "text": [
            "Train on 60000 samples, validate on 10000 samples\n",
            "Epoch 1/20\n",
            "60000/60000 [==============================] - 4s 60us/step - loss: 0.0020 - acc: 0.9994 - val_loss: 0.0350 - val_acc: 0.9919\n",
            "Epoch 2/20\n",
            "60000/60000 [==============================] - 4s 61us/step - loss: 0.0041 - acc: 0.9987 - val_loss: 0.0416 - val_acc: 0.9901\n",
            "Epoch 3/20\n",
            "60000/60000 [==============================] - 4s 62us/step - loss: 0.0042 - acc: 0.9983 - val_loss: 0.0442 - val_acc: 0.9911\n",
            "Epoch 4/20\n",
            "60000/60000 [==============================] - 4s 62us/step - loss: 0.0039 - acc: 0.9989 - val_loss: 0.0375 - val_acc: 0.9908\n",
            "Epoch 5/20\n",
            "18944/60000 [========>.....................] - ETA: 2s - loss: 0.0029 - acc: 0.9988"
          ],
          "name": "stdout"
        },
        {
          "output_type": "stream",
          "text": [
            "60000/60000 [==============================] - 4s 62us/step - loss: 0.0032 - acc: 0.9989 - val_loss: 0.0375 - val_acc: 0.9915\n",
            "Epoch 6/20\n",
            "60000/60000 [==============================] - 4s 62us/step - loss: 0.0022 - acc: 0.9993 - val_loss: 0.0387 - val_acc: 0.9911\n",
            "Epoch 7/20\n",
            "60000/60000 [==============================] - 4s 61us/step - loss: 0.0025 - acc: 0.9993 - val_loss: 0.0398 - val_acc: 0.9914\n",
            "Epoch 8/20\n",
            "60000/60000 [==============================] - 4s 62us/step - loss: 0.0019 - acc: 0.9995 - val_loss: 0.0415 - val_acc: 0.9913\n",
            "Epoch 9/20\n",
            "47104/60000 [======================>.......] - ETA: 0s - loss: 0.0048 - acc: 0.9984"
          ],
          "name": "stdout"
        },
        {
          "output_type": "stream",
          "text": [
            "60000/60000 [==============================] - 4s 62us/step - loss: 0.0041 - acc: 0.9987 - val_loss: 0.0384 - val_acc: 0.9913\n",
            "Epoch 10/20\n",
            "60000/60000 [==============================] - 4s 62us/step - loss: 0.0033 - acc: 0.9989 - val_loss: 0.0420 - val_acc: 0.9912\n",
            "Epoch 11/20\n",
            "60000/60000 [==============================] - 4s 61us/step - loss: 0.0030 - acc: 0.9991 - val_loss: 0.0422 - val_acc: 0.9911\n",
            "Epoch 12/20\n",
            "60000/60000 [==============================] - 4s 62us/step - loss: 0.0020 - acc: 0.9994 - val_loss: 0.0341 - val_acc: 0.9924\n",
            "Epoch 13/20\n",
            "49664/60000 [=======================>......] - ETA: 0s - loss: 0.0015 - acc: 0.9996"
          ],
          "name": "stdout"
        },
        {
          "output_type": "stream",
          "text": [
            "60000/60000 [==============================] - 4s 61us/step - loss: 0.0020 - acc: 0.9994 - val_loss: 0.0406 - val_acc: 0.9911\n",
            "Epoch 14/20\n",
            "60000/60000 [==============================] - 4s 62us/step - loss: 0.0021 - acc: 0.9993 - val_loss: 0.0397 - val_acc: 0.9894\n",
            "Epoch 15/20\n",
            "60000/60000 [==============================] - 4s 62us/step - loss: 0.0013 - acc: 0.9997 - val_loss: 0.0395 - val_acc: 0.9912\n",
            "Epoch 16/20\n",
            "60000/60000 [==============================] - 4s 62us/step - loss: 0.0018 - acc: 0.9995 - val_loss: 0.0413 - val_acc: 0.9913\n",
            "Epoch 17/20\n",
            "50688/60000 [========================>.....] - ETA: 0s - loss: 0.0029 - acc: 0.9991"
          ],
          "name": "stdout"
        },
        {
          "output_type": "stream",
          "text": [
            "60000/60000 [==============================] - 4s 62us/step - loss: 0.0030 - acc: 0.9990 - val_loss: 0.0420 - val_acc: 0.9904\n",
            "Epoch 18/20\n",
            "60000/60000 [==============================] - 4s 61us/step - loss: 0.0026 - acc: 0.9993 - val_loss: 0.0395 - val_acc: 0.9923\n",
            "Epoch 19/20\n",
            "60000/60000 [==============================] - 4s 62us/step - loss: 0.0021 - acc: 0.9994 - val_loss: 0.0450 - val_acc: 0.9911\n",
            "Epoch 20/20\n",
            "60000/60000 [==============================] - 4s 63us/step - loss: 0.0020 - acc: 0.9994 - val_loss: 0.0423 - val_acc: 0.9910\n"
          ],
          "name": "stdout"
        },
        {
          "output_type": "execute_result",
          "data": {
            "text/plain": [
              "<keras.callbacks.History at 0x7f250fbe7fd0>"
            ]
          },
          "metadata": {
            "tags": []
          },
          "execution_count": 101
        }
      ]
    },
    {
      "metadata": {
        "id": "p2gRaoRIGIcU",
        "colab_type": "code",
        "colab": {
          "base_uri": "https://localhost:8080/",
          "height": 34
        },
        "outputId": "d835f931-dfca-4646-8653-5fa763e0e398"
      },
      "cell_type": "code",
      "source": [
        "print(model.evaluate(X_test, Y_test, verbose=0))"
      ],
      "execution_count": 102,
      "outputs": [
        {
          "output_type": "stream",
          "text": [
            "[0.04232813151813334, 0.991]\n"
          ],
          "name": "stdout"
        }
      ]
    },
    {
      "metadata": {
        "id": "W6JlRe-bbiYK",
        "colab_type": "text"
      },
      "cell_type": "markdown",
      "source": [
        "在测试集上，运行结果为：准确率$0.991$"
      ]
    }
  ]
}